{
 "cells": [
  {
   "cell_type": "code",
   "execution_count": 1,
   "metadata": {},
   "outputs": [
    {
     "data": {
      "text/html": [
       "<div>\n",
       "<style scoped>\n",
       "    .dataframe tbody tr th:only-of-type {\n",
       "        vertical-align: middle;\n",
       "    }\n",
       "\n",
       "    .dataframe tbody tr th {\n",
       "        vertical-align: top;\n",
       "    }\n",
       "\n",
       "    .dataframe thead th {\n",
       "        text-align: right;\n",
       "    }\n",
       "</style>\n",
       "<table border=\"1\" class=\"dataframe\">\n",
       "  <thead>\n",
       "    <tr style=\"text-align: right;\">\n",
       "      <th></th>\n",
       "      <th>InvoiceNo</th>\n",
       "      <th>StockCode</th>\n",
       "      <th>Description</th>\n",
       "      <th>Quantity</th>\n",
       "      <th>InvoiceDate</th>\n",
       "      <th>UnitPrice</th>\n",
       "      <th>CustomerID</th>\n",
       "      <th>Country</th>\n",
       "    </tr>\n",
       "  </thead>\n",
       "  <tbody>\n",
       "    <tr>\n",
       "      <th>0</th>\n",
       "      <td>536365</td>\n",
       "      <td>85123A</td>\n",
       "      <td>WHITE HANGING HEART T-LIGHT HOLDER</td>\n",
       "      <td>6</td>\n",
       "      <td>2010-12-01 08:26:00</td>\n",
       "      <td>2.55</td>\n",
       "      <td>17850.0</td>\n",
       "      <td>United Kingdom</td>\n",
       "    </tr>\n",
       "    <tr>\n",
       "      <th>1</th>\n",
       "      <td>536365</td>\n",
       "      <td>71053</td>\n",
       "      <td>WHITE METAL LANTERN</td>\n",
       "      <td>6</td>\n",
       "      <td>2010-12-01 08:26:00</td>\n",
       "      <td>3.39</td>\n",
       "      <td>17850.0</td>\n",
       "      <td>United Kingdom</td>\n",
       "    </tr>\n",
       "    <tr>\n",
       "      <th>2</th>\n",
       "      <td>536365</td>\n",
       "      <td>84406B</td>\n",
       "      <td>CREAM CUPID HEARTS COAT HANGER</td>\n",
       "      <td>8</td>\n",
       "      <td>2010-12-01 08:26:00</td>\n",
       "      <td>2.75</td>\n",
       "      <td>17850.0</td>\n",
       "      <td>United Kingdom</td>\n",
       "    </tr>\n",
       "    <tr>\n",
       "      <th>3</th>\n",
       "      <td>536365</td>\n",
       "      <td>84029G</td>\n",
       "      <td>KNITTED UNION FLAG HOT WATER BOTTLE</td>\n",
       "      <td>6</td>\n",
       "      <td>2010-12-01 08:26:00</td>\n",
       "      <td>3.39</td>\n",
       "      <td>17850.0</td>\n",
       "      <td>United Kingdom</td>\n",
       "    </tr>\n",
       "    <tr>\n",
       "      <th>4</th>\n",
       "      <td>536365</td>\n",
       "      <td>84029E</td>\n",
       "      <td>RED WOOLLY HOTTIE WHITE HEART.</td>\n",
       "      <td>6</td>\n",
       "      <td>2010-12-01 08:26:00</td>\n",
       "      <td>3.39</td>\n",
       "      <td>17850.0</td>\n",
       "      <td>United Kingdom</td>\n",
       "    </tr>\n",
       "  </tbody>\n",
       "</table>\n",
       "</div>"
      ],
      "text/plain": [
       "  InvoiceNo StockCode                          Description  Quantity  \\\n",
       "0    536365    85123A   WHITE HANGING HEART T-LIGHT HOLDER         6   \n",
       "1    536365     71053                  WHITE METAL LANTERN         6   \n",
       "2    536365    84406B       CREAM CUPID HEARTS COAT HANGER         8   \n",
       "3    536365    84029G  KNITTED UNION FLAG HOT WATER BOTTLE         6   \n",
       "4    536365    84029E       RED WOOLLY HOTTIE WHITE HEART.         6   \n",
       "\n",
       "          InvoiceDate  UnitPrice  CustomerID         Country  \n",
       "0 2010-12-01 08:26:00       2.55     17850.0  United Kingdom  \n",
       "1 2010-12-01 08:26:00       3.39     17850.0  United Kingdom  \n",
       "2 2010-12-01 08:26:00       2.75     17850.0  United Kingdom  \n",
       "3 2010-12-01 08:26:00       3.39     17850.0  United Kingdom  \n",
       "4 2010-12-01 08:26:00       3.39     17850.0  United Kingdom  "
      ]
     },
     "execution_count": 1,
     "metadata": {},
     "output_type": "execute_result"
    }
   ],
   "source": [
    "import pandas as pd\n",
    "retail_dataframe = pd.read_excel(\"Online Retail.xlsx\")\n",
    "retail_dataframe.head()"
   ]
  },
  {
   "cell_type": "code",
   "execution_count": 2,
   "metadata": {},
   "outputs": [],
   "source": [
    "germany_retail_df = retail_dataframe[retail_dataframe['Country']=='Germany']"
   ]
  },
  {
   "cell_type": "code",
   "execution_count": 3,
   "metadata": {},
   "outputs": [
    {
     "data": {
      "text/plain": [
       "(9495, 8)"
      ]
     },
     "execution_count": 3,
     "metadata": {},
     "output_type": "execute_result"
    }
   ],
   "source": [
    "germany_retail_df.shape"
   ]
  },
  {
   "cell_type": "code",
   "execution_count": 4,
   "metadata": {},
   "outputs": [
    {
     "data": {
      "text/plain": [
       "95"
      ]
     },
     "execution_count": 4,
     "metadata": {},
     "output_type": "execute_result"
    }
   ],
   "source": [
    "germany_retail_df.CustomerID.nunique()"
   ]
  },
  {
   "cell_type": "code",
   "execution_count": 5,
   "metadata": {},
   "outputs": [
    {
     "data": {
      "text/html": [
       "<div>\n",
       "<style scoped>\n",
       "    .dataframe tbody tr th:only-of-type {\n",
       "        vertical-align: middle;\n",
       "    }\n",
       "\n",
       "    .dataframe tbody tr th {\n",
       "        vertical-align: top;\n",
       "    }\n",
       "\n",
       "    .dataframe thead th {\n",
       "        text-align: right;\n",
       "    }\n",
       "</style>\n",
       "<table border=\"1\" class=\"dataframe\">\n",
       "  <thead>\n",
       "    <tr style=\"text-align: right;\">\n",
       "      <th></th>\n",
       "      <th>InvoiceNo</th>\n",
       "      <th>StockCode</th>\n",
       "      <th>Description</th>\n",
       "      <th>Quantity</th>\n",
       "      <th>InvoiceDate</th>\n",
       "      <th>UnitPrice</th>\n",
       "      <th>CustomerID</th>\n",
       "      <th>Country</th>\n",
       "    </tr>\n",
       "  </thead>\n",
       "  <tbody>\n",
       "  </tbody>\n",
       "</table>\n",
       "</div>"
      ],
      "text/plain": [
       "Empty DataFrame\n",
       "Columns: [InvoiceNo, StockCode, Description, Quantity, InvoiceDate, UnitPrice, CustomerID, Country]\n",
       "Index: []"
      ]
     },
     "execution_count": 5,
     "metadata": {},
     "output_type": "execute_result"
    }
   ],
   "source": [
    "germany_retail_df[germany_retail_df.CustomerID.isnull()].head(10)"
   ]
  },
  {
   "cell_type": "code",
   "execution_count": 6,
   "metadata": {},
   "outputs": [
    {
     "name": "stderr",
     "output_type": "stream",
     "text": [
      "//anaconda3/lib/python3.7/site-packages/pandas/core/generic.py:6130: SettingWithCopyWarning: \n",
      "A value is trying to be set on a copy of a slice from a DataFrame\n",
      "\n",
      "See the caveats in the documentation: http://pandas.pydata.org/pandas-docs/stable/indexing.html#indexing-view-versus-copy\n",
      "  self._update_inplace(new_data)\n"
     ]
    }
   ],
   "source": [
    "germany_retail_df['CustomerID'].fillna(99999.0, inplace=True)"
   ]
  },
  {
   "cell_type": "code",
   "execution_count": 7,
   "metadata": {},
   "outputs": [],
   "source": [
    "germany_retail_df['Description'].fillna('Desc Missing', inplace=True)"
   ]
  },
  {
   "cell_type": "code",
   "execution_count": 8,
   "metadata": {},
   "outputs": [
    {
     "data": {
      "text/plain": [
       "InvoiceNo      0\n",
       "StockCode      0\n",
       "Description    0\n",
       "Quantity       0\n",
       "InvoiceDate    0\n",
       "UnitPrice      0\n",
       "CustomerID     0\n",
       "Country        0\n",
       "dtype: int64"
      ]
     },
     "execution_count": 8,
     "metadata": {},
     "output_type": "execute_result"
    }
   ],
   "source": [
    "germany_retail_df.isnull().sum()"
   ]
  },
  {
   "cell_type": "code",
   "execution_count": 10,
   "metadata": {},
   "outputs": [
    {
     "name": "stderr",
     "output_type": "stream",
     "text": [
      "//anaconda3/lib/python3.7/site-packages/ipykernel_launcher.py:2: SettingWithCopyWarning: \n",
      "A value is trying to be set on a copy of a slice from a DataFrame.\n",
      "Try using .loc[row_indexer,col_indexer] = value instead\n",
      "\n",
      "See the caveats in the documentation: http://pandas.pydata.org/pandas-docs/stable/indexing.html#indexing-view-versus-copy\n",
      "  \n"
     ]
    }
   ],
   "source": [
    "import numpy as np\n",
    "germany_retail_df['CustomerID']=germany_retail_df['CustomerID'].apply(np.int64)"
   ]
  },
  {
   "cell_type": "code",
   "execution_count": 11,
   "metadata": {},
   "outputs": [
    {
     "data": {
      "text/html": [
       "<div>\n",
       "<style scoped>\n",
       "    .dataframe tbody tr th:only-of-type {\n",
       "        vertical-align: middle;\n",
       "    }\n",
       "\n",
       "    .dataframe tbody tr th {\n",
       "        vertical-align: top;\n",
       "    }\n",
       "\n",
       "    .dataframe thead th {\n",
       "        text-align: right;\n",
       "    }\n",
       "</style>\n",
       "<table border=\"1\" class=\"dataframe\">\n",
       "  <thead>\n",
       "    <tr style=\"text-align: right;\">\n",
       "      <th></th>\n",
       "      <th>InvoiceNo</th>\n",
       "      <th>StockCode</th>\n",
       "      <th>Description</th>\n",
       "      <th>Quantity</th>\n",
       "      <th>InvoiceDate</th>\n",
       "      <th>UnitPrice</th>\n",
       "      <th>CustomerID</th>\n",
       "      <th>Country</th>\n",
       "    </tr>\n",
       "  </thead>\n",
       "  <tbody>\n",
       "    <tr>\n",
       "      <th>1109</th>\n",
       "      <td>536527</td>\n",
       "      <td>22809</td>\n",
       "      <td>SET OF 6 T-LIGHTS SANTA</td>\n",
       "      <td>6</td>\n",
       "      <td>2010-12-01 13:04:00</td>\n",
       "      <td>2.95</td>\n",
       "      <td>12662</td>\n",
       "      <td>Germany</td>\n",
       "    </tr>\n",
       "    <tr>\n",
       "      <th>1110</th>\n",
       "      <td>536527</td>\n",
       "      <td>84347</td>\n",
       "      <td>ROTATING SILVER ANGELS T-LIGHT HLDR</td>\n",
       "      <td>6</td>\n",
       "      <td>2010-12-01 13:04:00</td>\n",
       "      <td>2.55</td>\n",
       "      <td>12662</td>\n",
       "      <td>Germany</td>\n",
       "    </tr>\n",
       "    <tr>\n",
       "      <th>1111</th>\n",
       "      <td>536527</td>\n",
       "      <td>84945</td>\n",
       "      <td>MULTI COLOUR SILVER T-LIGHT HOLDER</td>\n",
       "      <td>12</td>\n",
       "      <td>2010-12-01 13:04:00</td>\n",
       "      <td>0.85</td>\n",
       "      <td>12662</td>\n",
       "      <td>Germany</td>\n",
       "    </tr>\n",
       "    <tr>\n",
       "      <th>1112</th>\n",
       "      <td>536527</td>\n",
       "      <td>22242</td>\n",
       "      <td>5 HOOK HANGER MAGIC TOADSTOOL</td>\n",
       "      <td>12</td>\n",
       "      <td>2010-12-01 13:04:00</td>\n",
       "      <td>1.65</td>\n",
       "      <td>12662</td>\n",
       "      <td>Germany</td>\n",
       "    </tr>\n",
       "    <tr>\n",
       "      <th>1113</th>\n",
       "      <td>536527</td>\n",
       "      <td>22244</td>\n",
       "      <td>3 HOOK HANGER MAGIC GARDEN</td>\n",
       "      <td>12</td>\n",
       "      <td>2010-12-01 13:04:00</td>\n",
       "      <td>1.95</td>\n",
       "      <td>12662</td>\n",
       "      <td>Germany</td>\n",
       "    </tr>\n",
       "  </tbody>\n",
       "</table>\n",
       "</div>"
      ],
      "text/plain": [
       "     InvoiceNo StockCode                          Description  Quantity  \\\n",
       "1109    536527     22809              SET OF 6 T-LIGHTS SANTA         6   \n",
       "1110    536527     84347  ROTATING SILVER ANGELS T-LIGHT HLDR         6   \n",
       "1111    536527     84945   MULTI COLOUR SILVER T-LIGHT HOLDER        12   \n",
       "1112    536527     22242        5 HOOK HANGER MAGIC TOADSTOOL        12   \n",
       "1113    536527     22244           3 HOOK HANGER MAGIC GARDEN        12   \n",
       "\n",
       "             InvoiceDate  UnitPrice  CustomerID  Country  \n",
       "1109 2010-12-01 13:04:00       2.95       12662  Germany  \n",
       "1110 2010-12-01 13:04:00       2.55       12662  Germany  \n",
       "1111 2010-12-01 13:04:00       0.85       12662  Germany  \n",
       "1112 2010-12-01 13:04:00       1.65       12662  Germany  \n",
       "1113 2010-12-01 13:04:00       1.95       12662  Germany  "
      ]
     },
     "execution_count": 11,
     "metadata": {},
     "output_type": "execute_result"
    }
   ],
   "source": [
    "germany_retail_df.head()"
   ]
  },
  {
   "cell_type": "code",
   "execution_count": 12,
   "metadata": {},
   "outputs": [
    {
     "data": {
      "text/plain": [
       "InvoiceNo              object\n",
       "StockCode              object\n",
       "Description            object\n",
       "Quantity                int64\n",
       "InvoiceDate    datetime64[ns]\n",
       "UnitPrice             float64\n",
       "CustomerID              int64\n",
       "Country                object\n",
       "dtype: object"
      ]
     },
     "execution_count": 12,
     "metadata": {},
     "output_type": "execute_result"
    }
   ],
   "source": [
    "germany_retail_df.dtypes"
   ]
  },
  {
   "cell_type": "code",
   "execution_count": 13,
   "metadata": {},
   "outputs": [],
   "source": [
    "#get total number of transcations, sale transcations and cancel/return transcations\n",
    "german_total_trans = germany_retail_df.InvoiceNo.nunique()\n",
    "german_cancelled_orders = germany_retail_df[germany_retail_df['InvoiceNo'].astype(str).str.startswith('C', na=False)]\n",
    "german_cancelled_order_count = german_cancelled_orders.InvoiceNo.nunique()\n",
    "german_sale_transactions_count = german_total_trans - german_cancelled_order_count"
   ]
  },
  {
   "cell_type": "code",
   "execution_count": 14,
   "metadata": {},
   "outputs": [
    {
     "name": "stdout",
     "output_type": "stream",
     "text": [
      "Germany Transactional Data\n",
      "Total number of Transactions:  603\n",
      "Number of Sale Transactions:  457\n",
      "Number of Cancel or Return Transactions:  146\n",
      "Percentage of Cancel or Return Transactions: 24 %\n",
      "Total number of distinct stock codes purchased or cancelled: 1671\n",
      "Total number Customers purchased or cancelled transcations with the retail chain: 95\n",
      "Total number of customer records missing 0\n",
      "Percentage of customer records missing 0.0 %\n"
     ]
    }
   ],
   "source": [
    "#Unique records for Invoice Id, StockCode, Customer ID and Country\n",
    "print('Germany Transactional Data')\n",
    "print('Total number of Transactions: ', german_total_trans)\n",
    "print('Number of Sale Transactions: ', german_sale_transactions_count)\n",
    "print('Number of Cancel or Return Transactions: ',german_cancelled_order_count)\n",
    "print('Percentage of Cancel or Return Transactions:',round((german_cancelled_order_count/german_total_trans)*100), '%')\n",
    "print('Total number of distinct stock codes purchased or cancelled:', germany_retail_df.StockCode.nunique())\n",
    "print('Total number Customers purchased or cancelled transcations with the retail chain:', germany_retail_df.CustomerID.nunique())\n",
    "german_missing_cust_records = germany_retail_df.CustomerID.isnull().sum()\n",
    "german_total_record_count = germany_retail_df.shape[0]\n",
    "german_percent_missing_cust_records = (german_missing_cust_records / german_total_record_count) * 100\n",
    "print('Total number of customer records missing', german_missing_cust_records)\n",
    "print('Percentage of customer records missing',round(german_percent_missing_cust_records),'%')"
   ]
  },
  {
   "cell_type": "code",
   "execution_count": 16,
   "metadata": {},
   "outputs": [],
   "source": [
    "german_cancelled_trans_df = germany_retail_df[germany_retail_df['InvoiceNo'].astype('str').str.startswith('C', na=False)]"
   ]
  },
  {
   "cell_type": "code",
   "execution_count": 17,
   "metadata": {},
   "outputs": [
    {
     "data": {
      "text/plain": [
       "9495"
      ]
     },
     "execution_count": 17,
     "metadata": {},
     "output_type": "execute_result"
    }
   ],
   "source": [
    "germany_retail_df.shape[0]"
   ]
  },
  {
   "cell_type": "code",
   "execution_count": 18,
   "metadata": {},
   "outputs": [],
   "source": [
    "german_sale_trans_df = germany_retail_df[~germany_retail_df['InvoiceNo'].isin(german_cancelled_trans_df.InvoiceNo)]"
   ]
  },
  {
   "cell_type": "code",
   "execution_count": 19,
   "metadata": {},
   "outputs": [
    {
     "data": {
      "text/plain": [
       "9042"
      ]
     },
     "execution_count": 19,
     "metadata": {},
     "output_type": "execute_result"
    }
   ],
   "source": [
    "german_sale_trans_df.shape[0]"
   ]
  },
  {
   "cell_type": "code",
   "execution_count": 20,
   "metadata": {},
   "outputs": [
    {
     "data": {
      "text/plain": [
       "453"
      ]
     },
     "execution_count": 20,
     "metadata": {},
     "output_type": "execute_result"
    }
   ],
   "source": [
    "german_cancelled_trans_df.shape[0]"
   ]
  },
  {
   "cell_type": "code",
   "execution_count": 21,
   "metadata": {},
   "outputs": [
    {
     "data": {
      "text/plain": [
       "9495"
      ]
     },
     "execution_count": 21,
     "metadata": {},
     "output_type": "execute_result"
    }
   ],
   "source": [
    "german_sale_trans_df.shape[0] + german_cancelled_trans_df.shape[0]"
   ]
  },
  {
   "cell_type": "code",
   "execution_count": 22,
   "metadata": {},
   "outputs": [
    {
     "data": {
      "text/html": [
       "<div>\n",
       "<style scoped>\n",
       "    .dataframe tbody tr th:only-of-type {\n",
       "        vertical-align: middle;\n",
       "    }\n",
       "\n",
       "    .dataframe tbody tr th {\n",
       "        vertical-align: top;\n",
       "    }\n",
       "\n",
       "    .dataframe thead th {\n",
       "        text-align: right;\n",
       "    }\n",
       "</style>\n",
       "<table border=\"1\" class=\"dataframe\">\n",
       "  <thead>\n",
       "    <tr style=\"text-align: right;\">\n",
       "      <th></th>\n",
       "      <th>InvoiceNo</th>\n",
       "      <th>StockCode</th>\n",
       "      <th>Description</th>\n",
       "      <th>Quantity</th>\n",
       "      <th>InvoiceDate</th>\n",
       "      <th>UnitPrice</th>\n",
       "      <th>CustomerID</th>\n",
       "      <th>Country</th>\n",
       "    </tr>\n",
       "  </thead>\n",
       "  <tbody>\n",
       "    <tr>\n",
       "      <th>1973</th>\n",
       "      <td>C536548</td>\n",
       "      <td>22244</td>\n",
       "      <td>3 HOOK HANGER MAGIC GARDEN</td>\n",
       "      <td>-4</td>\n",
       "      <td>2010-12-01 14:33:00</td>\n",
       "      <td>1.95</td>\n",
       "      <td>12472</td>\n",
       "      <td>Germany</td>\n",
       "    </tr>\n",
       "    <tr>\n",
       "      <th>1974</th>\n",
       "      <td>C536548</td>\n",
       "      <td>22242</td>\n",
       "      <td>5 HOOK HANGER MAGIC TOADSTOOL</td>\n",
       "      <td>-5</td>\n",
       "      <td>2010-12-01 14:33:00</td>\n",
       "      <td>1.65</td>\n",
       "      <td>12472</td>\n",
       "      <td>Germany</td>\n",
       "    </tr>\n",
       "    <tr>\n",
       "      <th>1975</th>\n",
       "      <td>C536548</td>\n",
       "      <td>20914</td>\n",
       "      <td>SET/5 RED RETROSPOT LID GLASS BOWLS</td>\n",
       "      <td>-1</td>\n",
       "      <td>2010-12-01 14:33:00</td>\n",
       "      <td>2.95</td>\n",
       "      <td>12472</td>\n",
       "      <td>Germany</td>\n",
       "    </tr>\n",
       "    <tr>\n",
       "      <th>1976</th>\n",
       "      <td>C536548</td>\n",
       "      <td>22892</td>\n",
       "      <td>SET OF SALT AND PEPPER TOADSTOOLS</td>\n",
       "      <td>-7</td>\n",
       "      <td>2010-12-01 14:33:00</td>\n",
       "      <td>1.25</td>\n",
       "      <td>12472</td>\n",
       "      <td>Germany</td>\n",
       "    </tr>\n",
       "    <tr>\n",
       "      <th>1977</th>\n",
       "      <td>C536548</td>\n",
       "      <td>22654</td>\n",
       "      <td>DELUXE SEWING KIT</td>\n",
       "      <td>-1</td>\n",
       "      <td>2010-12-01 14:33:00</td>\n",
       "      <td>5.95</td>\n",
       "      <td>12472</td>\n",
       "      <td>Germany</td>\n",
       "    </tr>\n",
       "  </tbody>\n",
       "</table>\n",
       "</div>"
      ],
      "text/plain": [
       "     InvoiceNo StockCode                          Description  Quantity  \\\n",
       "1973   C536548     22244           3 HOOK HANGER MAGIC GARDEN        -4   \n",
       "1974   C536548     22242        5 HOOK HANGER MAGIC TOADSTOOL        -5   \n",
       "1975   C536548     20914  SET/5 RED RETROSPOT LID GLASS BOWLS        -1   \n",
       "1976   C536548     22892    SET OF SALT AND PEPPER TOADSTOOLS        -7   \n",
       "1977   C536548     22654                   DELUXE SEWING KIT         -1   \n",
       "\n",
       "             InvoiceDate  UnitPrice  CustomerID  Country  \n",
       "1973 2010-12-01 14:33:00       1.95       12472  Germany  \n",
       "1974 2010-12-01 14:33:00       1.65       12472  Germany  \n",
       "1975 2010-12-01 14:33:00       2.95       12472  Germany  \n",
       "1976 2010-12-01 14:33:00       1.25       12472  Germany  \n",
       "1977 2010-12-01 14:33:00       5.95       12472  Germany  "
      ]
     },
     "execution_count": 22,
     "metadata": {},
     "output_type": "execute_result"
    }
   ],
   "source": [
    "german_cancelled_trans_df[german_cancelled_trans_df['InvoiceNo'].astype('str').str.startswith('C', na=False)].head()"
   ]
  },
  {
   "cell_type": "code",
   "execution_count": 23,
   "metadata": {},
   "outputs": [
    {
     "data": {
      "text/html": [
       "<div>\n",
       "<style scoped>\n",
       "    .dataframe tbody tr th:only-of-type {\n",
       "        vertical-align: middle;\n",
       "    }\n",
       "\n",
       "    .dataframe tbody tr th {\n",
       "        vertical-align: top;\n",
       "    }\n",
       "\n",
       "    .dataframe thead th {\n",
       "        text-align: right;\n",
       "    }\n",
       "</style>\n",
       "<table border=\"1\" class=\"dataframe\">\n",
       "  <thead>\n",
       "    <tr style=\"text-align: right;\">\n",
       "      <th></th>\n",
       "      <th>InvoiceNo</th>\n",
       "      <th>StockCode</th>\n",
       "      <th>Description</th>\n",
       "      <th>Quantity</th>\n",
       "      <th>InvoiceDate</th>\n",
       "      <th>UnitPrice</th>\n",
       "      <th>CustomerID</th>\n",
       "      <th>Country</th>\n",
       "    </tr>\n",
       "  </thead>\n",
       "  <tbody>\n",
       "    <tr>\n",
       "      <th>41745</th>\n",
       "      <td>539957</td>\n",
       "      <td>20828</td>\n",
       "      <td>GLITTER BUTTERFLY CLIPS</td>\n",
       "      <td>12</td>\n",
       "      <td>2010-12-23 12:58:00</td>\n",
       "      <td>2.55</td>\n",
       "      <td>12585</td>\n",
       "      <td>Germany</td>\n",
       "    </tr>\n",
       "    <tr>\n",
       "      <th>47945</th>\n",
       "      <td>540458</td>\n",
       "      <td>21539</td>\n",
       "      <td>RED RETROSPOT BUTTER DISH</td>\n",
       "      <td>3</td>\n",
       "      <td>2011-01-07 12:28:00</td>\n",
       "      <td>4.95</td>\n",
       "      <td>12501</td>\n",
       "      <td>Germany</td>\n",
       "    </tr>\n",
       "    <tr>\n",
       "      <th>48908</th>\n",
       "      <td>540480</td>\n",
       "      <td>84380</td>\n",
       "      <td>SET OF 3 BUTTERFLY COOKIE CUTTERS</td>\n",
       "      <td>12</td>\n",
       "      <td>2011-01-07 15:27:00</td>\n",
       "      <td>1.25</td>\n",
       "      <td>12480</td>\n",
       "      <td>Germany</td>\n",
       "    </tr>\n",
       "    <tr>\n",
       "      <th>69155</th>\n",
       "      <td>541965</td>\n",
       "      <td>20828</td>\n",
       "      <td>GLITTER BUTTERFLY CLIPS</td>\n",
       "      <td>18</td>\n",
       "      <td>2011-01-24 13:27:00</td>\n",
       "      <td>2.55</td>\n",
       "      <td>12625</td>\n",
       "      <td>Germany</td>\n",
       "    </tr>\n",
       "    <tr>\n",
       "      <th>81335</th>\n",
       "      <td>543121</td>\n",
       "      <td>90098</td>\n",
       "      <td>NECKLACE+BRACELET PINK BUTTERFLY</td>\n",
       "      <td>6</td>\n",
       "      <td>2011-02-03 13:58:00</td>\n",
       "      <td>2.55</td>\n",
       "      <td>12662</td>\n",
       "      <td>Germany</td>\n",
       "    </tr>\n",
       "  </tbody>\n",
       "</table>\n",
       "</div>"
      ],
      "text/plain": [
       "      InvoiceNo StockCode                        Description  Quantity  \\\n",
       "41745    539957     20828            GLITTER BUTTERFLY CLIPS        12   \n",
       "47945    540458     21539          RED RETROSPOT BUTTER DISH         3   \n",
       "48908    540480     84380  SET OF 3 BUTTERFLY COOKIE CUTTERS        12   \n",
       "69155    541965     20828            GLITTER BUTTERFLY CLIPS        18   \n",
       "81335    543121     90098   NECKLACE+BRACELET PINK BUTTERFLY         6   \n",
       "\n",
       "              InvoiceDate  UnitPrice  CustomerID  Country  \n",
       "41745 2010-12-23 12:58:00       2.55       12585  Germany  \n",
       "47945 2011-01-07 12:28:00       4.95       12501  Germany  \n",
       "48908 2011-01-07 15:27:00       1.25       12480  Germany  \n",
       "69155 2011-01-24 13:27:00       2.55       12625  Germany  \n",
       "81335 2011-02-03 13:58:00       2.55       12662  Germany  "
      ]
     },
     "execution_count": 23,
     "metadata": {},
     "output_type": "execute_result"
    }
   ],
   "source": [
    "german_sale_trans_df[german_sale_trans_df['Description'].astype(str).str.contains('BUTTER')].head(5)"
   ]
  },
  {
   "cell_type": "code",
   "execution_count": 24,
   "metadata": {},
   "outputs": [
    {
     "data": {
      "text/html": [
       "<div>\n",
       "<style scoped>\n",
       "    .dataframe tbody tr th:only-of-type {\n",
       "        vertical-align: middle;\n",
       "    }\n",
       "\n",
       "    .dataframe tbody tr th {\n",
       "        vertical-align: top;\n",
       "    }\n",
       "\n",
       "    .dataframe thead th {\n",
       "        text-align: right;\n",
       "    }\n",
       "</style>\n",
       "<table border=\"1\" class=\"dataframe\">\n",
       "  <thead>\n",
       "    <tr style=\"text-align: right;\">\n",
       "      <th></th>\n",
       "      <th>InvoiceNo</th>\n",
       "      <th>StockCode</th>\n",
       "      <th>Description</th>\n",
       "      <th>Quantity</th>\n",
       "      <th>InvoiceDate</th>\n",
       "      <th>UnitPrice</th>\n",
       "      <th>CustomerID</th>\n",
       "      <th>Country</th>\n",
       "    </tr>\n",
       "  </thead>\n",
       "  <tbody>\n",
       "    <tr>\n",
       "      <th>47945</th>\n",
       "      <td>540458</td>\n",
       "      <td>21539</td>\n",
       "      <td>RED RETROSPOT BUTTER DISH</td>\n",
       "      <td>3</td>\n",
       "      <td>2011-01-07 12:28:00</td>\n",
       "      <td>4.95</td>\n",
       "      <td>12501</td>\n",
       "      <td>Germany</td>\n",
       "    </tr>\n",
       "    <tr>\n",
       "      <th>101840</th>\n",
       "      <td>544933</td>\n",
       "      <td>21531</td>\n",
       "      <td>RED RETROSPOT SUGAR JAM BOWL</td>\n",
       "      <td>6</td>\n",
       "      <td>2011-02-25 08:44:00</td>\n",
       "      <td>2.55</td>\n",
       "      <td>12633</td>\n",
       "      <td>Germany</td>\n",
       "    </tr>\n",
       "    <tr>\n",
       "      <th>101841</th>\n",
       "      <td>544933</td>\n",
       "      <td>21533</td>\n",
       "      <td>RETROSPOT LARGE MILK JUG</td>\n",
       "      <td>3</td>\n",
       "      <td>2011-02-25 08:44:00</td>\n",
       "      <td>4.95</td>\n",
       "      <td>12633</td>\n",
       "      <td>Germany</td>\n",
       "    </tr>\n",
       "    <tr>\n",
       "      <th>126343</th>\n",
       "      <td>547071</td>\n",
       "      <td>21531</td>\n",
       "      <td>RED RETROSPOT SUGAR JAM BOWL</td>\n",
       "      <td>6</td>\n",
       "      <td>2011-03-20 13:59:00</td>\n",
       "      <td>2.55</td>\n",
       "      <td>12693</td>\n",
       "      <td>Germany</td>\n",
       "    </tr>\n",
       "    <tr>\n",
       "      <th>129164</th>\n",
       "      <td>547379</td>\n",
       "      <td>21533</td>\n",
       "      <td>RETROSPOT LARGE MILK JUG</td>\n",
       "      <td>3</td>\n",
       "      <td>2011-03-22 15:13:00</td>\n",
       "      <td>4.95</td>\n",
       "      <td>12720</td>\n",
       "      <td>Germany</td>\n",
       "    </tr>\n",
       "  </tbody>\n",
       "</table>\n",
       "</div>"
      ],
      "text/plain": [
       "       InvoiceNo StockCode                   Description  Quantity  \\\n",
       "47945     540458     21539     RED RETROSPOT BUTTER DISH         3   \n",
       "101840    544933     21531  RED RETROSPOT SUGAR JAM BOWL         6   \n",
       "101841    544933     21533      RETROSPOT LARGE MILK JUG         3   \n",
       "126343    547071     21531  RED RETROSPOT SUGAR JAM BOWL         6   \n",
       "129164    547379     21533      RETROSPOT LARGE MILK JUG         3   \n",
       "\n",
       "               InvoiceDate  UnitPrice  CustomerID  Country  \n",
       "47945  2011-01-07 12:28:00       4.95       12501  Germany  \n",
       "101840 2011-02-25 08:44:00       2.55       12633  Germany  \n",
       "101841 2011-02-25 08:44:00       4.95       12633  Germany  \n",
       "126343 2011-03-20 13:59:00       2.55       12693  Germany  \n",
       "129164 2011-03-22 15:13:00       4.95       12720  Germany  "
      ]
     },
     "execution_count": 24,
     "metadata": {},
     "output_type": "execute_result"
    }
   ],
   "source": [
    "german_sale_trans_df[german_sale_trans_df['StockCode'].astype(str).str.startswith('2153')].head()"
   ]
  },
  {
   "cell_type": "code",
   "execution_count": 38,
   "metadata": {},
   "outputs": [],
   "source": [
    "german_stock_desc_df = german_sale_trans_df[['StockCode', 'Description']]"
   ]
  },
  {
   "cell_type": "code",
   "execution_count": 39,
   "metadata": {},
   "outputs": [],
   "source": [
    "german_stock_desc_df.reset_index(inplace=True)"
   ]
  },
  {
   "cell_type": "code",
   "execution_count": 40,
   "metadata": {},
   "outputs": [
    {
     "name": "stderr",
     "output_type": "stream",
     "text": [
      "//anaconda3/lib/python3.7/site-packages/pandas/core/frame.py:3940: SettingWithCopyWarning: \n",
      "A value is trying to be set on a copy of a slice from a DataFrame\n",
      "\n",
      "See the caveats in the documentation: http://pandas.pydata.org/pandas-docs/stable/indexing.html#indexing-view-versus-copy\n",
      "  errors=errors)\n"
     ]
    }
   ],
   "source": [
    "german_stock_desc_df.drop(['index'], axis=1, inplace=True)"
   ]
  },
  {
   "cell_type": "code",
   "execution_count": 41,
   "metadata": {},
   "outputs": [
    {
     "data": {
      "text/html": [
       "<div>\n",
       "<style scoped>\n",
       "    .dataframe tbody tr th:only-of-type {\n",
       "        vertical-align: middle;\n",
       "    }\n",
       "\n",
       "    .dataframe tbody tr th {\n",
       "        vertical-align: top;\n",
       "    }\n",
       "\n",
       "    .dataframe thead th {\n",
       "        text-align: right;\n",
       "    }\n",
       "</style>\n",
       "<table border=\"1\" class=\"dataframe\">\n",
       "  <thead>\n",
       "    <tr style=\"text-align: right;\">\n",
       "      <th></th>\n",
       "      <th>StockCode</th>\n",
       "      <th>Description</th>\n",
       "    </tr>\n",
       "  </thead>\n",
       "  <tbody>\n",
       "    <tr>\n",
       "      <th>0</th>\n",
       "      <td>22809</td>\n",
       "      <td>SET OF 6 T-LIGHTS SANTA</td>\n",
       "    </tr>\n",
       "    <tr>\n",
       "      <th>1</th>\n",
       "      <td>84347</td>\n",
       "      <td>ROTATING SILVER ANGELS T-LIGHT HLDR</td>\n",
       "    </tr>\n",
       "    <tr>\n",
       "      <th>2</th>\n",
       "      <td>84945</td>\n",
       "      <td>MULTI COLOUR SILVER T-LIGHT HOLDER</td>\n",
       "    </tr>\n",
       "    <tr>\n",
       "      <th>3</th>\n",
       "      <td>22242</td>\n",
       "      <td>5 HOOK HANGER MAGIC TOADSTOOL</td>\n",
       "    </tr>\n",
       "    <tr>\n",
       "      <th>4</th>\n",
       "      <td>22244</td>\n",
       "      <td>3 HOOK HANGER MAGIC GARDEN</td>\n",
       "    </tr>\n",
       "  </tbody>\n",
       "</table>\n",
       "</div>"
      ],
      "text/plain": [
       "  StockCode                          Description\n",
       "0     22809              SET OF 6 T-LIGHTS SANTA\n",
       "1     84347  ROTATING SILVER ANGELS T-LIGHT HLDR\n",
       "2     84945   MULTI COLOUR SILVER T-LIGHT HOLDER\n",
       "3     22242        5 HOOK HANGER MAGIC TOADSTOOL\n",
       "4     22244           3 HOOK HANGER MAGIC GARDEN"
      ]
     },
     "execution_count": 41,
     "metadata": {},
     "output_type": "execute_result"
    }
   ],
   "source": [
    "german_stock_desc_df.head()"
   ]
  },
  {
   "cell_type": "code",
   "execution_count": 43,
   "metadata": {},
   "outputs": [
    {
     "name": "stderr",
     "output_type": "stream",
     "text": [
      "//anaconda3/lib/python3.7/site-packages/ipykernel_launcher.py:1: SettingWithCopyWarning: \n",
      "A value is trying to be set on a copy of a slice from a DataFrame.\n",
      "Try using .loc[row_indexer,col_indexer] = value instead\n",
      "\n",
      "See the caveats in the documentation: http://pandas.pydata.org/pandas-docs/stable/indexing.html#indexing-view-versus-copy\n",
      "  \"\"\"Entry point for launching an IPython kernel.\n"
     ]
    }
   ],
   "source": [
    "german_stock_desc_df['StockCode'] = german_stock_desc_df['StockCode'].astype(str)"
   ]
  },
  {
   "cell_type": "code",
   "execution_count": 44,
   "metadata": {},
   "outputs": [
    {
     "name": "stderr",
     "output_type": "stream",
     "text": [
      "//anaconda3/lib/python3.7/site-packages/pandas/core/generic.py:5096: SettingWithCopyWarning: \n",
      "A value is trying to be set on a copy of a slice from a DataFrame.\n",
      "Try using .loc[row_indexer,col_indexer] = value instead\n",
      "\n",
      "See the caveats in the documentation: http://pandas.pydata.org/pandas-docs/stable/indexing.html#indexing-view-versus-copy\n",
      "  self[name] = value\n"
     ]
    }
   ],
   "source": [
    "german_stock_desc_df.StockCode = german_stock_desc_df.StockCode.str.replace(' ', '')"
   ]
  },
  {
   "cell_type": "code",
   "execution_count": 45,
   "metadata": {},
   "outputs": [],
   "source": [
    "test=german_stock_desc_df.groupby(['StockCode','Description']).count()"
   ]
  },
  {
   "cell_type": "code",
   "execution_count": 46,
   "metadata": {},
   "outputs": [
    {
     "data": {
      "text/html": [
       "<div>\n",
       "<style scoped>\n",
       "    .dataframe tbody tr th:only-of-type {\n",
       "        vertical-align: middle;\n",
       "    }\n",
       "\n",
       "    .dataframe tbody tr th {\n",
       "        vertical-align: top;\n",
       "    }\n",
       "\n",
       "    .dataframe thead th {\n",
       "        text-align: right;\n",
       "    }\n",
       "</style>\n",
       "<table border=\"1\" class=\"dataframe\">\n",
       "  <thead>\n",
       "    <tr style=\"text-align: right;\">\n",
       "      <th></th>\n",
       "      <th></th>\n",
       "    </tr>\n",
       "    <tr>\n",
       "      <th>StockCode</th>\n",
       "      <th>Description</th>\n",
       "    </tr>\n",
       "  </thead>\n",
       "  <tbody>\n",
       "    <tr>\n",
       "      <th>10002</th>\n",
       "      <th>INFLATABLE POLITICAL GLOBE</th>\n",
       "    </tr>\n",
       "    <tr>\n",
       "      <th>10125</th>\n",
       "      <th>MINI FUNKY DESIGN TAPES</th>\n",
       "    </tr>\n",
       "    <tr>\n",
       "      <th>10135</th>\n",
       "      <th>COLOURING PENCILS BROWN TUBE</th>\n",
       "    </tr>\n",
       "    <tr>\n",
       "      <th>11001</th>\n",
       "      <th>ASSTD DESIGN RACING CAR PEN</th>\n",
       "    </tr>\n",
       "    <tr>\n",
       "      <th>15034</th>\n",
       "      <th>PAPER POCKET TRAVELING FAN</th>\n",
       "    </tr>\n",
       "  </tbody>\n",
       "</table>\n",
       "</div>"
      ],
      "text/plain": [
       "Empty DataFrame\n",
       "Columns: []\n",
       "Index: [(10002, INFLATABLE POLITICAL GLOBE ), (10125, MINI FUNKY DESIGN TAPES), (10135, COLOURING PENCILS BROWN TUBE), (11001, ASSTD DESIGN RACING CAR PEN), (15034, PAPER POCKET TRAVELING FAN )]"
      ]
     },
     "execution_count": 46,
     "metadata": {},
     "output_type": "execute_result"
    }
   ],
   "source": [
    "test.head()"
   ]
  },
  {
   "cell_type": "code",
   "execution_count": 47,
   "metadata": {},
   "outputs": [],
   "source": [
    "german_stock_desc_df = test.reset_index()"
   ]
  },
  {
   "cell_type": "code",
   "execution_count": 48,
   "metadata": {},
   "outputs": [
    {
     "data": {
      "text/plain": [
       "StockCode      1697\n",
       "Description    1697\n",
       "dtype: int64"
      ]
     },
     "execution_count": 48,
     "metadata": {},
     "output_type": "execute_result"
    }
   ],
   "source": [
    "german_stock_desc_df.count()"
   ]
  },
  {
   "cell_type": "code",
   "execution_count": 49,
   "metadata": {},
   "outputs": [
    {
     "data": {
      "text/plain": [
       "1665"
      ]
     },
     "execution_count": 49,
     "metadata": {},
     "output_type": "execute_result"
    }
   ],
   "source": [
    "german_stock_desc_df['StockCode'].nunique()"
   ]
  },
  {
   "cell_type": "code",
   "execution_count": 50,
   "metadata": {},
   "outputs": [
    {
     "data": {
      "text/plain": [
       "1697"
      ]
     },
     "execution_count": 50,
     "metadata": {},
     "output_type": "execute_result"
    }
   ],
   "source": [
    "german_stock_desc_df['Description'].nunique()"
   ]
  },
  {
   "cell_type": "code",
   "execution_count": 51,
   "metadata": {},
   "outputs": [
    {
     "data": {
      "text/plain": [
       "StockCode      32\n",
       "Description    32\n",
       "dtype: int64"
      ]
     },
     "execution_count": 51,
     "metadata": {},
     "output_type": "execute_result"
    }
   ],
   "source": [
    "german_stock_desc_df[german_stock_desc_df['StockCode'].duplicated()].count()"
   ]
  },
  {
   "cell_type": "code",
   "execution_count": 52,
   "metadata": {},
   "outputs": [
    {
     "data": {
      "text/html": [
       "<div>\n",
       "<style scoped>\n",
       "    .dataframe tbody tr th:only-of-type {\n",
       "        vertical-align: middle;\n",
       "    }\n",
       "\n",
       "    .dataframe tbody tr th {\n",
       "        vertical-align: top;\n",
       "    }\n",
       "\n",
       "    .dataframe thead th {\n",
       "        text-align: right;\n",
       "    }\n",
       "</style>\n",
       "<table border=\"1\" class=\"dataframe\">\n",
       "  <thead>\n",
       "    <tr style=\"text-align: right;\">\n",
       "      <th></th>\n",
       "      <th>StockCode</th>\n",
       "      <th>Description</th>\n",
       "    </tr>\n",
       "  </thead>\n",
       "  <tbody>\n",
       "    <tr>\n",
       "      <th>181</th>\n",
       "      <td>21232</td>\n",
       "      <td>STRAWBERRY CERAMIC TRINKET POT</td>\n",
       "    </tr>\n",
       "    <tr>\n",
       "      <th>264</th>\n",
       "      <td>21507</td>\n",
       "      <td>ELEPHANT, BIRTHDAY CARD,</td>\n",
       "    </tr>\n",
       "    <tr>\n",
       "      <th>391</th>\n",
       "      <td>21928</td>\n",
       "      <td>JUMBO BAG SCANDINAVIAN PAISLEY</td>\n",
       "    </tr>\n",
       "    <tr>\n",
       "      <th>496</th>\n",
       "      <td>22129</td>\n",
       "      <td>PARTY CONES CANDY TREE DECORATION</td>\n",
       "    </tr>\n",
       "    <tr>\n",
       "      <th>522</th>\n",
       "      <td>22179</td>\n",
       "      <td>SET 10 NIGHT OWL LIGHTS</td>\n",
       "    </tr>\n",
       "    <tr>\n",
       "      <th>535</th>\n",
       "      <td>22197</td>\n",
       "      <td>SMALL POPCORN HOLDER</td>\n",
       "    </tr>\n",
       "    <tr>\n",
       "      <th>643</th>\n",
       "      <td>22383</td>\n",
       "      <td>LUNCH BAG SUKI DESIGN</td>\n",
       "    </tr>\n",
       "    <tr>\n",
       "      <th>693</th>\n",
       "      <td>22466</td>\n",
       "      <td>FAIRY TALE COTTAGE NIGHTLIGHT</td>\n",
       "    </tr>\n",
       "    <tr>\n",
       "      <th>774</th>\n",
       "      <td>22584</td>\n",
       "      <td>PACK OF 6 PANNETONE GIFT BOXES</td>\n",
       "    </tr>\n",
       "    <tr>\n",
       "      <th>782</th>\n",
       "      <td>22595</td>\n",
       "      <td>GINGHAM HEART DECORATION</td>\n",
       "    </tr>\n",
       "    <tr>\n",
       "      <th>910</th>\n",
       "      <td>22776</td>\n",
       "      <td>SWEETHEART CAKESTAND 3 TIER</td>\n",
       "    </tr>\n",
       "    <tr>\n",
       "      <th>980</th>\n",
       "      <td>22900</td>\n",
       "      <td>SET 2 TEA TOWELS I LOVE LONDON</td>\n",
       "    </tr>\n",
       "    <tr>\n",
       "      <th>1005</th>\n",
       "      <td>22939</td>\n",
       "      <td>APRON APPLE DELIGHT</td>\n",
       "    </tr>\n",
       "    <tr>\n",
       "      <th>1046</th>\n",
       "      <td>22985</td>\n",
       "      <td>WRAP, BILLBOARD FONTS DESIGN</td>\n",
       "    </tr>\n",
       "    <tr>\n",
       "      <th>1048</th>\n",
       "      <td>22986</td>\n",
       "      <td>WRAP GINGHAM ROSE</td>\n",
       "    </tr>\n",
       "    <tr>\n",
       "      <th>1057</th>\n",
       "      <td>22999</td>\n",
       "      <td>TRAVEL CARD WALLET VINTAGE LEAF</td>\n",
       "    </tr>\n",
       "    <tr>\n",
       "      <th>1172</th>\n",
       "      <td>23196</td>\n",
       "      <td>VINTAGE LEAF MAGNETIC NOTEPAD</td>\n",
       "    </tr>\n",
       "    <tr>\n",
       "      <th>1180</th>\n",
       "      <td>23203</td>\n",
       "      <td>JUMBO BAG VINTAGE DOILY</td>\n",
       "    </tr>\n",
       "    <tr>\n",
       "      <th>1187</th>\n",
       "      <td>23209</td>\n",
       "      <td>LUNCH BAG VINTAGE DOILY</td>\n",
       "    </tr>\n",
       "    <tr>\n",
       "      <th>1202</th>\n",
       "      <td>23231</td>\n",
       "      <td>WRAP DOILEY DESIGN</td>\n",
       "    </tr>\n",
       "    <tr>\n",
       "      <th>1204</th>\n",
       "      <td>23232</td>\n",
       "      <td>WRAP VINTAGE PETALS  DESIGN</td>\n",
       "    </tr>\n",
       "    <tr>\n",
       "      <th>1209</th>\n",
       "      <td>23236</td>\n",
       "      <td>STORAGE TIN VINTAGE DOILY</td>\n",
       "    </tr>\n",
       "    <tr>\n",
       "      <th>1211</th>\n",
       "      <td>23237</td>\n",
       "      <td>SET OF 4 KNICK KNACK TINS LEAVES</td>\n",
       "    </tr>\n",
       "    <tr>\n",
       "      <th>1215</th>\n",
       "      <td>23240</td>\n",
       "      <td>SET OF 4 KNICK KNACK TINS DOILY</td>\n",
       "    </tr>\n",
       "    <tr>\n",
       "      <th>1317</th>\n",
       "      <td>23396</td>\n",
       "      <td>LE JARDIN BOTANIQUE CUSHION COVER</td>\n",
       "    </tr>\n",
       "    <tr>\n",
       "      <th>1387</th>\n",
       "      <td>23545</td>\n",
       "      <td>WRAP RED VINTAGE DOILY</td>\n",
       "    </tr>\n",
       "    <tr>\n",
       "      <th>1509</th>\n",
       "      <td>82486</td>\n",
       "      <td>WOOD S/3 CABINET ANT WHITE FINISH</td>\n",
       "    </tr>\n",
       "    <tr>\n",
       "      <th>1581</th>\n",
       "      <td>84828</td>\n",
       "      <td>JUNGLE POPSICLES ICE LOLLY MOULDS</td>\n",
       "    </tr>\n",
       "    <tr>\n",
       "      <th>1614</th>\n",
       "      <td>84997A</td>\n",
       "      <td>GREEN 3 PIECE POLKADOT CUTLERY SET</td>\n",
       "    </tr>\n",
       "    <tr>\n",
       "      <th>1616</th>\n",
       "      <td>84997B</td>\n",
       "      <td>RED 3 PIECE RETROSPOT CUTLERY SET</td>\n",
       "    </tr>\n",
       "    <tr>\n",
       "      <th>1618</th>\n",
       "      <td>84997C</td>\n",
       "      <td>CHILDRENS CUTLERY POLKADOT BLUE</td>\n",
       "    </tr>\n",
       "    <tr>\n",
       "      <th>1620</th>\n",
       "      <td>84997D</td>\n",
       "      <td>PINK 3 PIECE POLKADOT CUTLERY SET</td>\n",
       "    </tr>\n",
       "  </tbody>\n",
       "</table>\n",
       "</div>"
      ],
      "text/plain": [
       "     StockCode                         Description\n",
       "181      21232      STRAWBERRY CERAMIC TRINKET POT\n",
       "264      21507           ELEPHANT, BIRTHDAY CARD, \n",
       "391      21928      JUMBO BAG SCANDINAVIAN PAISLEY\n",
       "496      22129   PARTY CONES CANDY TREE DECORATION\n",
       "522      22179             SET 10 NIGHT OWL LIGHTS\n",
       "535      22197                SMALL POPCORN HOLDER\n",
       "643      22383              LUNCH BAG SUKI DESIGN \n",
       "693      22466       FAIRY TALE COTTAGE NIGHTLIGHT\n",
       "774      22584      PACK OF 6 PANNETONE GIFT BOXES\n",
       "782      22595            GINGHAM HEART DECORATION\n",
       "910      22776         SWEETHEART CAKESTAND 3 TIER\n",
       "980      22900     SET 2 TEA TOWELS I LOVE LONDON \n",
       "1005     22939                 APRON APPLE DELIGHT\n",
       "1046     22985        WRAP, BILLBOARD FONTS DESIGN\n",
       "1048     22986                  WRAP GINGHAM ROSE \n",
       "1057     22999     TRAVEL CARD WALLET VINTAGE LEAF\n",
       "1172     23196       VINTAGE LEAF MAGNETIC NOTEPAD\n",
       "1180     23203            JUMBO BAG VINTAGE DOILY \n",
       "1187     23209            LUNCH BAG VINTAGE DOILY \n",
       "1202     23231                  WRAP DOILEY DESIGN\n",
       "1204     23232         WRAP VINTAGE PETALS  DESIGN\n",
       "1209     23236          STORAGE TIN VINTAGE DOILY \n",
       "1211     23237   SET OF 4 KNICK KNACK TINS LEAVES \n",
       "1215     23240    SET OF 4 KNICK KNACK TINS DOILY \n",
       "1317     23396   LE JARDIN BOTANIQUE CUSHION COVER\n",
       "1387     23545              WRAP RED VINTAGE DOILY\n",
       "1509     82486   WOOD S/3 CABINET ANT WHITE FINISH\n",
       "1581     84828   JUNGLE POPSICLES ICE LOLLY MOULDS\n",
       "1614    84997A  GREEN 3 PIECE POLKADOT CUTLERY SET\n",
       "1616    84997B   RED 3 PIECE RETROSPOT CUTLERY SET\n",
       "1618    84997C     CHILDRENS CUTLERY POLKADOT BLUE\n",
       "1620    84997D   PINK 3 PIECE POLKADOT CUTLERY SET"
      ]
     },
     "execution_count": 52,
     "metadata": {},
     "output_type": "execute_result"
    }
   ],
   "source": [
    "german_stock_desc_df[german_stock_desc_df['StockCode'].duplicated()]"
   ]
  },
  {
   "cell_type": "code",
   "execution_count": 53,
   "metadata": {},
   "outputs": [
    {
     "data": {
      "text/html": [
       "<div>\n",
       "<style scoped>\n",
       "    .dataframe tbody tr th:only-of-type {\n",
       "        vertical-align: middle;\n",
       "    }\n",
       "\n",
       "    .dataframe tbody tr th {\n",
       "        vertical-align: top;\n",
       "    }\n",
       "\n",
       "    .dataframe thead th {\n",
       "        text-align: right;\n",
       "    }\n",
       "</style>\n",
       "<table border=\"1\" class=\"dataframe\">\n",
       "  <thead>\n",
       "    <tr style=\"text-align: right;\">\n",
       "      <th></th>\n",
       "      <th>StockCode</th>\n",
       "      <th>Description</th>\n",
       "    </tr>\n",
       "  </thead>\n",
       "  <tbody>\n",
       "    <tr>\n",
       "      <th>180</th>\n",
       "      <td>21232</td>\n",
       "      <td>STRAWBERRY CERAMIC TRINKET BOX</td>\n",
       "    </tr>\n",
       "    <tr>\n",
       "      <th>181</th>\n",
       "      <td>21232</td>\n",
       "      <td>STRAWBERRY CERAMIC TRINKET POT</td>\n",
       "    </tr>\n",
       "    <tr>\n",
       "      <th>263</th>\n",
       "      <td>21507</td>\n",
       "      <td>ELEPHANT BIRTHDAY CARD</td>\n",
       "    </tr>\n",
       "    <tr>\n",
       "      <th>264</th>\n",
       "      <td>21507</td>\n",
       "      <td>ELEPHANT, BIRTHDAY CARD,</td>\n",
       "    </tr>\n",
       "    <tr>\n",
       "      <th>390</th>\n",
       "      <td>21928</td>\n",
       "      <td>JUMBO BAG SCANDINAVIAN BLUE PAISLEY</td>\n",
       "    </tr>\n",
       "    <tr>\n",
       "      <th>391</th>\n",
       "      <td>21928</td>\n",
       "      <td>JUMBO BAG SCANDINAVIAN PAISLEY</td>\n",
       "    </tr>\n",
       "    <tr>\n",
       "      <th>495</th>\n",
       "      <td>22129</td>\n",
       "      <td>PARTY CONES CANDY DECORATION</td>\n",
       "    </tr>\n",
       "    <tr>\n",
       "      <th>496</th>\n",
       "      <td>22129</td>\n",
       "      <td>PARTY CONES CANDY TREE DECORATION</td>\n",
       "    </tr>\n",
       "    <tr>\n",
       "      <th>521</th>\n",
       "      <td>22179</td>\n",
       "      <td>SET 10 LIGHTS NIGHT OWL</td>\n",
       "    </tr>\n",
       "    <tr>\n",
       "      <th>522</th>\n",
       "      <td>22179</td>\n",
       "      <td>SET 10 NIGHT OWL LIGHTS</td>\n",
       "    </tr>\n",
       "    <tr>\n",
       "      <th>534</th>\n",
       "      <td>22197</td>\n",
       "      <td>POPCORN HOLDER</td>\n",
       "    </tr>\n",
       "    <tr>\n",
       "      <th>535</th>\n",
       "      <td>22197</td>\n",
       "      <td>SMALL POPCORN HOLDER</td>\n",
       "    </tr>\n",
       "    <tr>\n",
       "      <th>642</th>\n",
       "      <td>22383</td>\n",
       "      <td>LUNCH BAG SUKI  DESIGN</td>\n",
       "    </tr>\n",
       "    <tr>\n",
       "      <th>643</th>\n",
       "      <td>22383</td>\n",
       "      <td>LUNCH BAG SUKI DESIGN</td>\n",
       "    </tr>\n",
       "    <tr>\n",
       "      <th>693</th>\n",
       "      <td>22466</td>\n",
       "      <td>FAIRY TALE COTTAGE NIGHTLIGHT</td>\n",
       "    </tr>\n",
       "    <tr>\n",
       "      <th>692</th>\n",
       "      <td>22466</td>\n",
       "      <td>FAIRY TALE COTTAGE NIGHT LIGHT</td>\n",
       "    </tr>\n",
       "    <tr>\n",
       "      <th>773</th>\n",
       "      <td>22584</td>\n",
       "      <td>PACK OF 6 PANETTONE GIFT BOXES</td>\n",
       "    </tr>\n",
       "    <tr>\n",
       "      <th>774</th>\n",
       "      <td>22584</td>\n",
       "      <td>PACK OF 6 PANNETONE GIFT BOXES</td>\n",
       "    </tr>\n",
       "    <tr>\n",
       "      <th>781</th>\n",
       "      <td>22595</td>\n",
       "      <td>CHRISTMAS GINGHAM HEART</td>\n",
       "    </tr>\n",
       "    <tr>\n",
       "      <th>782</th>\n",
       "      <td>22595</td>\n",
       "      <td>GINGHAM HEART DECORATION</td>\n",
       "    </tr>\n",
       "    <tr>\n",
       "      <th>909</th>\n",
       "      <td>22776</td>\n",
       "      <td>SWEETHEART 3 TIER CAKE STAND</td>\n",
       "    </tr>\n",
       "    <tr>\n",
       "      <th>910</th>\n",
       "      <td>22776</td>\n",
       "      <td>SWEETHEART CAKESTAND 3 TIER</td>\n",
       "    </tr>\n",
       "    <tr>\n",
       "      <th>979</th>\n",
       "      <td>22900</td>\n",
       "      <td>SET 2 TEA TOWELS I LOVE LONDON</td>\n",
       "    </tr>\n",
       "    <tr>\n",
       "      <th>980</th>\n",
       "      <td>22900</td>\n",
       "      <td>SET 2 TEA TOWELS I LOVE LONDON</td>\n",
       "    </tr>\n",
       "    <tr>\n",
       "      <th>1004</th>\n",
       "      <td>22939</td>\n",
       "      <td>ADULT APRON APPLE DELIGHT</td>\n",
       "    </tr>\n",
       "    <tr>\n",
       "      <th>1005</th>\n",
       "      <td>22939</td>\n",
       "      <td>APRON APPLE DELIGHT</td>\n",
       "    </tr>\n",
       "    <tr>\n",
       "      <th>1045</th>\n",
       "      <td>22985</td>\n",
       "      <td>WRAP BILLBOARD FONTS DESIGN</td>\n",
       "    </tr>\n",
       "    <tr>\n",
       "      <th>1046</th>\n",
       "      <td>22985</td>\n",
       "      <td>WRAP, BILLBOARD FONTS DESIGN</td>\n",
       "    </tr>\n",
       "    <tr>\n",
       "      <th>1047</th>\n",
       "      <td>22986</td>\n",
       "      <td>GINGHAM ROSE WRAP</td>\n",
       "    </tr>\n",
       "    <tr>\n",
       "      <th>1048</th>\n",
       "      <td>22986</td>\n",
       "      <td>WRAP GINGHAM ROSE</td>\n",
       "    </tr>\n",
       "    <tr>\n",
       "      <th>...</th>\n",
       "      <td>...</td>\n",
       "      <td>...</td>\n",
       "    </tr>\n",
       "    <tr>\n",
       "      <th>1179</th>\n",
       "      <td>23203</td>\n",
       "      <td>JUMBO BAG DOILEY PATTERNS</td>\n",
       "    </tr>\n",
       "    <tr>\n",
       "      <th>1180</th>\n",
       "      <td>23203</td>\n",
       "      <td>JUMBO BAG VINTAGE DOILY</td>\n",
       "    </tr>\n",
       "    <tr>\n",
       "      <th>1186</th>\n",
       "      <td>23209</td>\n",
       "      <td>LUNCH BAG DOILEY PATTERN</td>\n",
       "    </tr>\n",
       "    <tr>\n",
       "      <th>1187</th>\n",
       "      <td>23209</td>\n",
       "      <td>LUNCH BAG VINTAGE DOILY</td>\n",
       "    </tr>\n",
       "    <tr>\n",
       "      <th>1201</th>\n",
       "      <td>23231</td>\n",
       "      <td>WRAP  VINTAGE DOILY</td>\n",
       "    </tr>\n",
       "    <tr>\n",
       "      <th>1202</th>\n",
       "      <td>23231</td>\n",
       "      <td>WRAP DOILEY DESIGN</td>\n",
       "    </tr>\n",
       "    <tr>\n",
       "      <th>1203</th>\n",
       "      <td>23232</td>\n",
       "      <td>WRAP VINTAGE LEAF DESIGN</td>\n",
       "    </tr>\n",
       "    <tr>\n",
       "      <th>1204</th>\n",
       "      <td>23232</td>\n",
       "      <td>WRAP VINTAGE PETALS  DESIGN</td>\n",
       "    </tr>\n",
       "    <tr>\n",
       "      <th>1208</th>\n",
       "      <td>23236</td>\n",
       "      <td>DOILEY STORAGE TIN</td>\n",
       "    </tr>\n",
       "    <tr>\n",
       "      <th>1209</th>\n",
       "      <td>23236</td>\n",
       "      <td>STORAGE TIN VINTAGE DOILY</td>\n",
       "    </tr>\n",
       "    <tr>\n",
       "      <th>1210</th>\n",
       "      <td>23237</td>\n",
       "      <td>SET OF 4 KNICK KNACK TINS LEAF</td>\n",
       "    </tr>\n",
       "    <tr>\n",
       "      <th>1211</th>\n",
       "      <td>23237</td>\n",
       "      <td>SET OF 4 KNICK KNACK TINS LEAVES</td>\n",
       "    </tr>\n",
       "    <tr>\n",
       "      <th>1215</th>\n",
       "      <td>23240</td>\n",
       "      <td>SET OF 4 KNICK KNACK TINS DOILY</td>\n",
       "    </tr>\n",
       "    <tr>\n",
       "      <th>1214</th>\n",
       "      <td>23240</td>\n",
       "      <td>SET OF 4 KNICK KNACK TINS DOILEY</td>\n",
       "    </tr>\n",
       "    <tr>\n",
       "      <th>1316</th>\n",
       "      <td>23396</td>\n",
       "      <td>LA JARDIN BOTANIQUE CUSHION COVER</td>\n",
       "    </tr>\n",
       "    <tr>\n",
       "      <th>1317</th>\n",
       "      <td>23396</td>\n",
       "      <td>LE JARDIN BOTANIQUE CUSHION COVER</td>\n",
       "    </tr>\n",
       "    <tr>\n",
       "      <th>1386</th>\n",
       "      <td>23545</td>\n",
       "      <td>WRAP RED DOILEY</td>\n",
       "    </tr>\n",
       "    <tr>\n",
       "      <th>1387</th>\n",
       "      <td>23545</td>\n",
       "      <td>WRAP RED VINTAGE DOILY</td>\n",
       "    </tr>\n",
       "    <tr>\n",
       "      <th>1508</th>\n",
       "      <td>82486</td>\n",
       "      <td>3 DRAWER ANTIQUE WHITE WOOD CABINET</td>\n",
       "    </tr>\n",
       "    <tr>\n",
       "      <th>1509</th>\n",
       "      <td>82486</td>\n",
       "      <td>WOOD S/3 CABINET ANT WHITE FINISH</td>\n",
       "    </tr>\n",
       "    <tr>\n",
       "      <th>1580</th>\n",
       "      <td>84828</td>\n",
       "      <td>JUNGLE POPSICLES ICE LOLLY HOLDERS</td>\n",
       "    </tr>\n",
       "    <tr>\n",
       "      <th>1581</th>\n",
       "      <td>84828</td>\n",
       "      <td>JUNGLE POPSICLES ICE LOLLY MOULDS</td>\n",
       "    </tr>\n",
       "    <tr>\n",
       "      <th>1613</th>\n",
       "      <td>84997A</td>\n",
       "      <td>CHILDRENS CUTLERY POLKADOT GREEN</td>\n",
       "    </tr>\n",
       "    <tr>\n",
       "      <th>1614</th>\n",
       "      <td>84997A</td>\n",
       "      <td>GREEN 3 PIECE POLKADOT CUTLERY SET</td>\n",
       "    </tr>\n",
       "    <tr>\n",
       "      <th>1615</th>\n",
       "      <td>84997B</td>\n",
       "      <td>CHILDRENS CUTLERY RETROSPOT RED</td>\n",
       "    </tr>\n",
       "    <tr>\n",
       "      <th>1616</th>\n",
       "      <td>84997B</td>\n",
       "      <td>RED 3 PIECE RETROSPOT CUTLERY SET</td>\n",
       "    </tr>\n",
       "    <tr>\n",
       "      <th>1617</th>\n",
       "      <td>84997C</td>\n",
       "      <td>BLUE 3 PIECE POLKADOT CUTLERY SET</td>\n",
       "    </tr>\n",
       "    <tr>\n",
       "      <th>1618</th>\n",
       "      <td>84997C</td>\n",
       "      <td>CHILDRENS CUTLERY POLKADOT BLUE</td>\n",
       "    </tr>\n",
       "    <tr>\n",
       "      <th>1619</th>\n",
       "      <td>84997D</td>\n",
       "      <td>CHILDRENS CUTLERY POLKADOT PINK</td>\n",
       "    </tr>\n",
       "    <tr>\n",
       "      <th>1620</th>\n",
       "      <td>84997D</td>\n",
       "      <td>PINK 3 PIECE POLKADOT CUTLERY SET</td>\n",
       "    </tr>\n",
       "  </tbody>\n",
       "</table>\n",
       "<p>64 rows × 2 columns</p>\n",
       "</div>"
      ],
      "text/plain": [
       "     StockCode                          Description\n",
       "180      21232       STRAWBERRY CERAMIC TRINKET BOX\n",
       "181      21232       STRAWBERRY CERAMIC TRINKET POT\n",
       "263      21507              ELEPHANT BIRTHDAY CARD \n",
       "264      21507            ELEPHANT, BIRTHDAY CARD, \n",
       "390      21928  JUMBO BAG SCANDINAVIAN BLUE PAISLEY\n",
       "391      21928       JUMBO BAG SCANDINAVIAN PAISLEY\n",
       "495      22129         PARTY CONES CANDY DECORATION\n",
       "496      22129    PARTY CONES CANDY TREE DECORATION\n",
       "521      22179              SET 10 LIGHTS NIGHT OWL\n",
       "522      22179              SET 10 NIGHT OWL LIGHTS\n",
       "534      22197                       POPCORN HOLDER\n",
       "535      22197                 SMALL POPCORN HOLDER\n",
       "642      22383              LUNCH BAG SUKI  DESIGN \n",
       "643      22383               LUNCH BAG SUKI DESIGN \n",
       "693      22466        FAIRY TALE COTTAGE NIGHTLIGHT\n",
       "692      22466       FAIRY TALE COTTAGE NIGHT LIGHT\n",
       "773      22584       PACK OF 6 PANETTONE GIFT BOXES\n",
       "774      22584       PACK OF 6 PANNETONE GIFT BOXES\n",
       "781      22595              CHRISTMAS GINGHAM HEART\n",
       "782      22595             GINGHAM HEART DECORATION\n",
       "909      22776        SWEETHEART 3 TIER CAKE STAND \n",
       "910      22776          SWEETHEART CAKESTAND 3 TIER\n",
       "979      22900      SET 2 TEA TOWELS I LOVE LONDON \n",
       "980      22900      SET 2 TEA TOWELS I LOVE LONDON \n",
       "1004     22939            ADULT APRON APPLE DELIGHT\n",
       "1005     22939                  APRON APPLE DELIGHT\n",
       "1045     22985          WRAP BILLBOARD FONTS DESIGN\n",
       "1046     22985         WRAP, BILLBOARD FONTS DESIGN\n",
       "1047     22986                    GINGHAM ROSE WRAP\n",
       "1048     22986                   WRAP GINGHAM ROSE \n",
       "...        ...                                  ...\n",
       "1179     23203            JUMBO BAG DOILEY PATTERNS\n",
       "1180     23203             JUMBO BAG VINTAGE DOILY \n",
       "1186     23209            LUNCH BAG DOILEY PATTERN \n",
       "1187     23209             LUNCH BAG VINTAGE DOILY \n",
       "1201     23231                 WRAP  VINTAGE DOILY \n",
       "1202     23231                   WRAP DOILEY DESIGN\n",
       "1203     23232             WRAP VINTAGE LEAF DESIGN\n",
       "1204     23232          WRAP VINTAGE PETALS  DESIGN\n",
       "1208     23236                   DOILEY STORAGE TIN\n",
       "1209     23236           STORAGE TIN VINTAGE DOILY \n",
       "1210     23237       SET OF 4 KNICK KNACK TINS LEAF\n",
       "1211     23237    SET OF 4 KNICK KNACK TINS LEAVES \n",
       "1215     23240     SET OF 4 KNICK KNACK TINS DOILY \n",
       "1214     23240    SET OF 4 KNICK KNACK TINS DOILEY \n",
       "1316     23396    LA JARDIN BOTANIQUE CUSHION COVER\n",
       "1317     23396    LE JARDIN BOTANIQUE CUSHION COVER\n",
       "1386     23545                      WRAP RED DOILEY\n",
       "1387     23545               WRAP RED VINTAGE DOILY\n",
       "1508     82486  3 DRAWER ANTIQUE WHITE WOOD CABINET\n",
       "1509     82486    WOOD S/3 CABINET ANT WHITE FINISH\n",
       "1580     84828   JUNGLE POPSICLES ICE LOLLY HOLDERS\n",
       "1581     84828    JUNGLE POPSICLES ICE LOLLY MOULDS\n",
       "1613    84997A    CHILDRENS CUTLERY POLKADOT GREEN \n",
       "1614    84997A   GREEN 3 PIECE POLKADOT CUTLERY SET\n",
       "1615    84997B     CHILDRENS CUTLERY RETROSPOT RED \n",
       "1616    84997B    RED 3 PIECE RETROSPOT CUTLERY SET\n",
       "1617    84997C    BLUE 3 PIECE POLKADOT CUTLERY SET\n",
       "1618    84997C      CHILDRENS CUTLERY POLKADOT BLUE\n",
       "1619    84997D      CHILDRENS CUTLERY POLKADOT PINK\n",
       "1620    84997D    PINK 3 PIECE POLKADOT CUTLERY SET\n",
       "\n",
       "[64 rows x 2 columns]"
      ]
     },
     "execution_count": 53,
     "metadata": {},
     "output_type": "execute_result"
    }
   ],
   "source": [
    "german_stock_desc_df[german_stock_desc_df['StockCode'].isin(german_stock_desc_df['StockCode'][german_stock_desc_df['StockCode'].duplicated()])].sort_values(\"StockCode\")"
   ]
  },
  {
   "cell_type": "code",
   "execution_count": 54,
   "metadata": {},
   "outputs": [],
   "source": [
    "german_stock_desc_df.drop_duplicates(subset='StockCode', keep=\"first\", inplace=True)"
   ]
  },
  {
   "cell_type": "code",
   "execution_count": 56,
   "metadata": {},
   "outputs": [],
   "source": [
    "from sklearn.feature_extraction.text import TfidfVectorizer\n",
    "tfidf = TfidfVectorizer(stop_words='english')\n",
    "tfidf_matrix = tfidf.fit_transform(german_stock_desc_df['Description'])\n",
    "doc_term_matrix = tfidf_matrix.todense()\n",
    "df = pd.DataFrame(doc_term_matrix, \n",
    "                  columns=tfidf.get_feature_names(), \n",
    "                  index=german_stock_desc_df['Description'])\n",
    "\n",
    "from sklearn.metrics.pairwise import linear_kernel\n",
    "cosine_sim = linear_kernel(tfidf_matrix, tfidf_matrix)"
   ]
  },
  {
   "cell_type": "code",
   "execution_count": 57,
   "metadata": {},
   "outputs": [],
   "source": [
    "from sklearn.metrics.pairwise import cosine_similarity\n",
    "indices = pd.Series(german_stock_desc_df.index, index=german_stock_desc_df['Description'])"
   ]
  },
  {
   "cell_type": "code",
   "execution_count": 92,
   "metadata": {},
   "outputs": [],
   "source": [
    "# Function that takes in product description as input and outputs most similar products\n",
    "def get_recommendations(stockCode, cosine_sim=cosine_sim):\n",
    "    #Get the product desc from the stockcode\n",
    "    desc = german_stock_desc_df[german_stock_desc_df['StockCode'] == stockCode]['Description'].tolist()[0]\n",
    "    \n",
    "    # Get the index of the product that matches the description\n",
    "    idx = indices[desc]\n",
    "\n",
    "    # Get the pairwsie similarity scores of all products with that product\n",
    "    sim_scores = list(enumerate(cosine_sim[idx]))\n",
    "\n",
    "    # Sort the products based on the similarity scores\n",
    "    sim_scores = sorted(sim_scores, key=lambda x: x[1], reverse=True)\n",
    "\n",
    "    # Get the scores of the 10 most similar products\n",
    "    sim_scores = sim_scores[1:11]\n",
    "\n",
    "    # Get the product indices\n",
    "    product_indices = [i[0] for i in sim_scores]\n",
    "\n",
    "    # Return the top 10 most similar products\n",
    "    return german_stock_desc_df[german_stock_desc_df['StockCode'].isin(german_stock_desc_df['StockCode'].iloc[product_indices])]"
   ]
  },
  {
   "cell_type": "code",
   "execution_count": 70,
   "metadata": {},
   "outputs": [],
   "source": [
    "def popularItems(country):\n",
    "    purchase_g = germany_retail_df.groupby(['StockCode'])['Quantity'].sum().reset_index()\n",
    "    purchase_g_sorted = purchase_g.sort_values(\"Quantity\", ascending=False).reset_index().head(10)\n",
    "    top_selling_stockcodes = purchase_g_sorted['StockCode'].head(10).tolist()\n",
    "    return top_selling_stockcodes"
   ]
  },
  {
   "cell_type": "code",
   "execution_count": 71,
   "metadata": {},
   "outputs": [],
   "source": [
    "def printProducts(productList):\n",
    "    for productCode in productList:\n",
    "        print(productCode, '-', germany_retail_df[germany_retail_df['StockCode'] == productCode][['Description']][-1:]['Description'].iloc[0])"
   ]
  },
  {
   "cell_type": "code",
   "execution_count": 78,
   "metadata": {},
   "outputs": [],
   "source": [
    "stockCode = '20750'\n",
    "#stockCode = ''"
   ]
  },
  {
   "cell_type": "code",
   "execution_count": 96,
   "metadata": {},
   "outputs": [
    {
     "name": "stdout",
     "output_type": "stream",
     "text": [
      "StockCode                       Description\n",
      "    20676                RED RETROSPOT BOWL\n",
      "    20685             DOORMAT RED RETROSPOT\n",
      "    20749        ASSORTED COLOUR MINI CASES\n",
      "    21042              RED RETROSPOT APRON \n",
      "    21212   PACK OF 72 RETROSPOT CAKE CASES\n",
      "    21238                 RED RETROSPOT CUP\n",
      "    21242              RED RETROSPOT PLATE \n",
      "    21498               RED RETROSPOT WRAP \n",
      "    21844                 RED RETROSPOT MUG\n",
      "    23295  SET OF 12 MINI LOAF BAKING CASES\n"
     ]
    }
   ],
   "source": [
    "try:\n",
    "    print(get_recommendations(stockCode).to_string(index=False))\n",
    "except:\n",
    "    print('StockCode Not Recognised !!', '\\n')\n",
    "    print('Take a look at popular products.....', '\\n')\n",
    "    printProducts(popularItems('Germany'))"
   ]
  }
 ],
 "metadata": {
  "kernelspec": {
   "display_name": "Python 3",
   "language": "python",
   "name": "python3"
  },
  "language_info": {
   "codemirror_mode": {
    "name": "ipython",
    "version": 3
   },
   "file_extension": ".py",
   "mimetype": "text/x-python",
   "name": "python",
   "nbconvert_exporter": "python",
   "pygments_lexer": "ipython3",
   "version": "3.7.3"
  }
 },
 "nbformat": 4,
 "nbformat_minor": 2
}
